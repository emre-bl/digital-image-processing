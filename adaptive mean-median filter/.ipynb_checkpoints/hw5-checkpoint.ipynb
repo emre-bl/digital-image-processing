{
 "cells": [
  {
   "cell_type": "code",
   "execution_count": 2,
   "id": "c0dbe187",
   "metadata": {},
   "outputs": [],
   "source": [
    "import cv2 as cv\n",
    "import numpy as np"
   ]
  },
  {
   "cell_type": "code",
   "execution_count": 3,
   "id": "785f224b",
   "metadata": {},
   "outputs": [],
   "source": [
    "def print_Arr(ar):\n",
    "    for i in range(ar.shape[0]):\n",
    "        print(*ar[i])"
   ]
  },
  {
   "cell_type": "code",
   "execution_count": 12,
   "id": "d898d1b0",
   "metadata": {},
   "outputs": [],
   "source": [
    "def adaptive_mean_filter(image):\n",
    "    img = image.copy()\n",
    "    return_img = np.zeros(img.shape)\n",
    "    img = np.single(img)\n",
    "    img = cv.normalize(img, None, alpha=0,beta=1, norm_type=cv.NORM_MINMAX, dtype=cv.CV_32F)\n",
    "    p = cv.copyMakeBorder(img, 2, 2, 2,2, cv.BORDER_REPLICATE, None, value = 0)\n",
    "    m,n = img.shape\n",
    "    for i in range(m):\n",
    "        for j in range(n):\n",
    "            part = p[i:i+4,j:j+4]\n",
    "            mean_p = np.average(part)\n",
    "            var = np.var(part)\n",
    "            return_img[i][j] = p[i+2][j+2]-(0.004/var)*(p[i+2][j+2]-mean_p)\n",
    "    return_img = cv.normalize(return_img, None, alpha=0, beta=255, norm_type=cv.NORM_MINMAX, dtype=cv.CV_32F)\n",
    "    return return_img.astype(np.uint8)"
   ]
  },
  {
   "cell_type": "code",
   "execution_count": 13,
   "id": "053842de",
   "metadata": {},
   "outputs": [],
   "source": [
    "noisyImage_Gaussian = cv.imread(\"noisyImage_Gaussian.jpg\", cv.IMREAD_GRAYSCALE)"
   ]
  },
  {
   "cell_type": "code",
   "execution_count": 14,
   "id": "ca539af7",
   "metadata": {},
   "outputs": [],
   "source": [
    "lena_grayscale = cv.imread(\"lena_grayscale_hq.jpg\", cv.IMREAD_GRAYSCALE)"
   ]
  },
  {
   "cell_type": "code",
   "execution_count": 15,
   "id": "d5c96dc6",
   "metadata": {},
   "outputs": [],
   "source": [
    "output_1_1 = adaptive_mean_filter(noisyImage_Gaussian)"
   ]
  },
  {
   "cell_type": "code",
   "execution_count": 16,
   "id": "db2ff1ca",
   "metadata": {},
   "outputs": [],
   "source": [
    "cv.imshow(\"adaptive_mean_filter\",output_1_1.astype(np.uint8))\n",
    "cv.waitKey(0)\n",
    "cv.destroyAllWindows()"
   ]
  },
  {
   "cell_type": "code",
   "execution_count": 17,
   "id": "5ac92cd3",
   "metadata": {},
   "outputs": [],
   "source": [
    "output_1_2 = None\n",
    "\n",
    "output_1_2 = cv.boxFilter(noisyImage_Gaussian, 0, (5,5), output_1_2, \n",
    "                                (-1,-1), True, cv.BORDER_REPLICATE)"
   ]
  },
  {
   "cell_type": "code",
   "execution_count": 18,
   "id": "72bab7e7",
   "metadata": {},
   "outputs": [],
   "source": [
    "output_1_3 = cv.GaussianBlur(noisyImage_Gaussian,(5,5),0)"
   ]
  },
  {
   "cell_type": "code",
   "execution_count": 19,
   "id": "27bd7380",
   "metadata": {
    "scrolled": true
   },
   "outputs": [
    {
     "name": "stdout",
     "output_type": "stream",
     "text": [
      "output_1_1 PSNR:  23.994548604081825\n",
      "output_1_2 PSNR: 22.961026232733385\n",
      "output_1_3 PSNR: 23.38238442194951\n"
     ]
    }
   ],
   "source": [
    "output_1_1_psnr = cv.PSNR(lena_grayscale, output_1_1)\n",
    "print(\"output_1_1 PSNR: \",output_1_1_psnr)\n",
    "output_1_2_psnr = cv.PSNR(lena_grayscale, output_1_2)\n",
    "print(\"output_1_2 PSNR:\",output_1_2_psnr)\n",
    "output_1_3_psnr = cv.PSNR(lena_grayscale, output_1_3)\n",
    "print(\"output_1_3 PSNR:\",output_1_3_psnr)"
   ]
  },
  {
   "cell_type": "markdown",
   "id": "71178e93",
   "metadata": {},
   "source": [
    "**2. SORU**"
   ]
  },
  {
   "cell_type": "code",
   "execution_count": 20,
   "id": "aa9820ae",
   "metadata": {},
   "outputs": [],
   "source": [
    "def A(part,ks):\n",
    "    mini = np.min(part)\n",
    "    median = np.median(part)\n",
    "    maxi = np.max(part)\n",
    "    \n",
    "    return mini,median,maxi"
   ]
  },
  {
   "cell_type": "code",
   "execution_count": 21,
   "id": "4cdea413",
   "metadata": {},
   "outputs": [],
   "source": [
    "def B(part,ks):\n",
    "    mini = np.min(part)\n",
    "    xy = part[ks//2][ks//2]\n",
    "    maxi = np.max(part)\n",
    "    \n",
    "    return mini,xy,maxi"
   ]
  },
  {
   "cell_type": "code",
   "execution_count": 34,
   "id": "34dff499",
   "metadata": {},
   "outputs": [],
   "source": [
    "def adaptive_median_filter(image):\n",
    "    img = image.copy()\n",
    "    ks = 3 #kernel size\n",
    "    return_img = np.zeros(img.shape)\n",
    "    img = np.single(img)\n",
    "    img = cv.normalize(img, None, alpha=0,beta=1, norm_type=cv.NORM_MINMAX, dtype=cv.CV_32F)\n",
    "    p = cv.copyMakeBorder(img, 3, 3, 3,3, cv.BORDER_REPLICATE, None, value = 0)\n",
    "    m,n = img.shape\n",
    "    for i in range(m):\n",
    "        for j in range(n):\n",
    "            while(True):\n",
    "                add = (ks//2)*2\n",
    "                part = p[i:i+add,j:j+add]\n",
    "                mini,median,maxi = A(part,ks)\n",
    "\n",
    "                if(mini < median and median < maxi):\n",
    "                    mini,xy,maxi = B(part,ks)\n",
    "\n",
    "                    if(mini < xy and xy < maxi):\n",
    "                        return_img[i][j] = xy\n",
    "                        break\n",
    "                    else:\n",
    "                        return_img[i][j] = median\n",
    "                        break\n",
    "                else:\n",
    "                    if(ks!=7):\n",
    "                        ks+=2\n",
    "                    else:\n",
    "                        ks = 3\n",
    "\n",
    "                if(ks == 7):\n",
    "                    return_img[i][j] = median\n",
    "                    break\n",
    "    return_img = cv.normalize(return_img, None, alpha=0, beta=255, norm_type=cv.NORM_MINMAX, dtype=cv.CV_32F)\n",
    "    return return_img.astype(np.uint8)\n",
    "                \n",
    "\n",
    "def get_median_weighted(arr,pad,k):\n",
    "    temp = []\n",
    "    for i in range(k):\n",
    "        temp.append(arr[pad,pad])\n",
    "    for i in arr:\n",
    "        for j in i:\n",
    "            temp.append(j)\n",
    "    return np.median(temp)\n",
    "\n",
    "def weighted_median_filter(img,ker):\n",
    "    test = img.copy()\n",
    "    pad = ker//2\n",
    "    padded = cv.copyMakeBorder(img,pad,pad,pad,pad, cv.BORDER_REPLICATE, None, value = 0)\n",
    "    \n",
    "    for i in range(pad,img.shape[0]+pad):\n",
    "        for j in range(pad,img.shape[1]+pad):\n",
    "            part = padded[i-pad:i+pad+1,j-pad:j+pad+1]\n",
    "            new_value = get_median_weighted(part,pad,ker)\n",
    "            test[i-pad,j-pad] = new_value\n",
    "\n",
    "    return test\n",
    "    "
   ]
  },
  {
   "cell_type": "code",
   "execution_count": 35,
   "id": "c88ab6c2",
   "metadata": {},
   "outputs": [],
   "source": [
    "saltpepper = cv.imread(\"noisyImage_SaltPepper.jpg\", cv.IMREAD_GRAYSCALE)"
   ]
  },
  {
   "cell_type": "code",
   "execution_count": 36,
   "id": "a9a47f84",
   "metadata": {},
   "outputs": [],
   "source": [
    "output_2_1 = adaptive_median_filter(saltpepper)"
   ]
  },
  {
   "cell_type": "code",
   "execution_count": 42,
   "id": "2d11bea9",
   "metadata": {},
   "outputs": [],
   "source": [
    "output_2_2 = cv.medianBlur(saltpepper,3)\n",
    "output_2_3 = cv.medianBlur(saltpepper,5)\n",
    "output_2_4 = cv.medianBlur(saltpepper,7)\n",
    "output_2_5 = weighted_median_filter(saltpepper,3)\n",
    "output_2_6 = weighted_median_filter(saltpepper,5)\n",
    "output_2_7 = weighted_median_filter(saltpepper,7)"
   ]
  },
  {
   "cell_type": "code",
   "execution_count": 43,
   "id": "32190e37",
   "metadata": {},
   "outputs": [
    {
     "name": "stdout",
     "output_type": "stream",
     "text": [
      "output_2_1 PSNR 23.442725368440325\n",
      "output_2_2 PSNR 35.32300638488962\n",
      "output_2_3 PSNR 31.30758125851478\n",
      "output_2_4 PSNR 29.154370174255064\n",
      "output_2_5 PSNR 39.67826145609015\n",
      "output_2_6 PSNR 34.18524961507465\n",
      "output_2_7 PSNR 31.135241473071193\n"
     ]
    }
   ],
   "source": [
    "print(\"output_2_1 PSNR\", cv.PSNR(lena_grayscale, output_2_1))\n",
    "print(\"output_2_2 PSNR\", cv.PSNR(lena_grayscale, output_2_2))\n",
    "print(\"output_2_3 PSNR\", cv.PSNR(lena_grayscale, output_2_3))\n",
    "print(\"output_2_4 PSNR\", cv.PSNR(lena_grayscale, output_2_4))\n",
    "print(\"output_2_5 PSNR\", cv.PSNR(lena_grayscale, output_2_5))\n",
    "print(\"output_2_6 PSNR\", cv.PSNR(lena_grayscale, output_2_6))\n",
    "print(\"output_2_7 PSNR\", cv.PSNR(lena_grayscale, output_2_7))"
   ]
  },
  {
   "cell_type": "code",
   "execution_count": 2,
   "id": "2ddd7c73",
   "metadata": {},
   "outputs": [
    {
     "name": "stdout",
     "output_type": "stream",
     "text": [
      "output_1_1 PSNR:  23.994548604081825\n",
      "output_1_2 PSNR:  22.961026232733385\n",
      "output_1_3 PSNR:  23.38238442194951\n",
      "\n",
      "output_2_1 PSNR 36.57408617683066\n",
      "output_2_2 PSNR 35.32300638488962\n",
      "output_2_3 PSNR 31.30758125851478\n",
      "output_2_4 PSNR 29.154370174255064\n",
      "output_2_5 PSNR 39.67826145609015\n",
      "output_2_6 PSNR 34.18524961507465\n",
      "output_2_7 PSNR 31.135241473071193\n"
     ]
    }
   ],
   "source": [
    "import cv2 as cv\n",
    "import numpy as np\n",
    "\n",
    "def adaptive_mean_filter(image):\n",
    "    img = image.copy()\n",
    "    return_img = np.zeros(img.shape)\n",
    "    img = np.single(img)\n",
    "    img = cv.normalize(img, None, alpha=0,beta=1, norm_type=cv.NORM_MINMAX, dtype=cv.CV_32F)\n",
    "    p = cv.copyMakeBorder(img, 2, 2, 2,2, cv.BORDER_REPLICATE, None, value = 0)\n",
    "    m,n = img.shape\n",
    "    for i in range(m):\n",
    "        for j in range(n):\n",
    "            part = p[i:i+4,j:j+4]\n",
    "            mean_p = np.average(part)\n",
    "            var = np.var(part)\n",
    "            return_img[i][j] = p[i+2][j+2]-(0.004/var)*(p[i+2][j+2]-mean_p)\n",
    "    return_img = cv.normalize(return_img, None, alpha=0, beta=255, norm_type=cv.NORM_MINMAX, dtype=cv.CV_32F)\n",
    "    return return_img.astype(np.uint8)\n",
    "\n",
    "\n",
    "noisyImage_Gaussian = cv.imread(\"noisyImage_Gaussian.jpg\", cv.IMREAD_GRAYSCALE)\n",
    "lena_grayscale = cv.imread(\"lena_grayscale_hq.jpg\", cv.IMREAD_GRAYSCALE)\n",
    "\n",
    "output_1_1 = adaptive_mean_filter(noisyImage_Gaussian)\n",
    "\n",
    "\n",
    "\n",
    "\n",
    "output_1_2 = None\n",
    "\n",
    "output_1_2 = cv.boxFilter(noisyImage_Gaussian, 0, (5,5), output_1_2, (-1,-1), True, cv.BORDER_REPLICATE)\n",
    "\n",
    "output_1_3 = cv.GaussianBlur(noisyImage_Gaussian,(5,5),0)\n",
    "\n",
    "\n",
    "output_1_1_psnr = cv.PSNR(lena_grayscale, output_1_1)\n",
    "cv.imshow(\"output_1_1 PSNR: \"+ str(output_1_1_psnr) ,output_1_1)\n",
    "output_1_2_psnr = cv.PSNR(lena_grayscale, output_1_2)\n",
    "cv.imshow(\"output_1_2 PSNR: \"+ str(output_1_2_psnr),output_1_2)\n",
    "output_1_3_psnr = cv.PSNR(lena_grayscale, output_1_3)\n",
    "cv.imshow(\"output_1_1 PSNR: \"+ str(output_1_3_psnr),output_1_3)\n",
    "\n",
    "print(\"output_1_1 PSNR: \",output_1_1_psnr)\n",
    "print(\"output_1_2 PSNR: \",output_1_2_psnr)\n",
    "print(\"output_1_3 PSNR: \",output_1_3_psnr)\n",
    "\n",
    "\n",
    "#2. SORU\n",
    "\n",
    "\n",
    "def A(part,ks):\n",
    "    mini = np.min(part)\n",
    "    median = np.median(part)\n",
    "    maxi = np.max(part)\n",
    "\n",
    "    return mini,median,maxi\n",
    "\n",
    "def B(part,ks):\n",
    "    mini = np.min(part)\n",
    "    xy = part[ks//2][ks//2]\n",
    "    maxi = np.max(part)\n",
    "\n",
    "    return mini,xy,maxi\n",
    "\n",
    "def adaptive_median_filter(image):\n",
    "    img = image.copy()\n",
    "    ks = 3 #kernel size\n",
    "    return_img = np.zeros(img.shape)\n",
    "    img = np.single(img)\n",
    "    img = cv.normalize(img, None, alpha=0,beta=1, norm_type=cv.NORM_MINMAX, dtype=cv.CV_32F)\n",
    "    p = cv.copyMakeBorder(img, 3, 3, 3,3, cv.BORDER_REPLICATE, None, value = 0)\n",
    "    m,n = img.shape\n",
    "    for i in range(m):\n",
    "        for j in range(n):\n",
    "            while(True):\n",
    "                add = (ks//2)*2\n",
    "                part = p[i:i+add,j:j+add]\n",
    "                mini,median,maxi = A(part,ks)\n",
    "\n",
    "                if(mini < median and median < maxi):\n",
    "                    mini,xy,maxi = B(part,ks)\n",
    "\n",
    "                    if(mini < xy and xy < maxi):\n",
    "                        return_img[i][j] = xy\n",
    "                        break\n",
    "                    else:\n",
    "                        return_img[i][j] = median\n",
    "                        break\n",
    "                else:\n",
    "                    if(ks!=7):\n",
    "                        ks+=2\n",
    "                    else:\n",
    "                        ks = 3\n",
    "\n",
    "                if(ks == 7):\n",
    "                    return_img[i][j] = median\n",
    "                    break\n",
    "                    \n",
    "    return_img = cv.normalize(return_img, None, alpha=0, beta=255, norm_type=cv.NORM_MINMAX, dtype=cv.CV_32F)\n",
    "    return return_img.astype(np.uint8)\n",
    "\n",
    "\n",
    "def get_median_weighted(arr,pad,k):\n",
    "    temp = []\n",
    "    for i in range(k):\n",
    "        temp.append(arr[pad,pad])\n",
    "    for i in arr:\n",
    "        for j in i:\n",
    "            temp.append(j)\n",
    "    return np.median(temp)\n",
    "\n",
    "def weighted_median_filter(img,ker):\n",
    "    test = img.copy()\n",
    "    pad = ker//2\n",
    "    padded = cv.copyMakeBorder(img,pad,pad,pad,pad, cv.BORDER_REPLICATE, None, value = 0)\n",
    "\n",
    "    for i in range(pad,img.shape[0]+pad):\n",
    "        for j in range(pad,img.shape[1]+pad):\n",
    "            part = padded[i-pad:i+pad+1,j-pad:j+pad+1]\n",
    "            new_value = get_median_weighted(part,pad,ker)\n",
    "            test[i-pad,j-pad] = new_value\n",
    "\n",
    "    return test\n",
    "\n",
    "saltpepper = cv.imread(\"noisyImage_SaltPepper.jpg\", cv.IMREAD_GRAYSCALE)\n",
    "\n",
    "output_2_1 = adaptive_median_filter(saltpepper)\n",
    "\n",
    "output_2_2 = cv.medianBlur(saltpepper,3)\n",
    "output_2_3 = cv.medianBlur(saltpepper,5)\n",
    "output_2_4 = cv.medianBlur(saltpepper,7)\n",
    "output_2_5 = weighted_median_filter(saltpepper,3)\n",
    "output_2_6 = weighted_median_filter(saltpepper,5)\n",
    "output_2_7 = weighted_median_filter(saltpepper,7)\n",
    "\n",
    "output_2_1_psnr = cv.PSNR(lena_grayscale, output_2_1);\n",
    "output_2_2_psnr = cv.PSNR(lena_grayscale, output_2_2);\n",
    "output_2_3_psnr = cv.PSNR(lena_grayscale, output_2_3);\n",
    "output_2_4_psnr = cv.PSNR(lena_grayscale, output_2_4);\n",
    "output_2_5_psnr = cv.PSNR(lena_grayscale, output_2_5);\n",
    "output_2_6_psnr = cv.PSNR(lena_grayscale, output_2_6);\n",
    "output_2_7_psnr = cv.PSNR(lena_grayscale, output_2_7);\n",
    "\n",
    "cv.imshow(\"output_2_1 PSNR: \"+ str(output_2_1_psnr),output_2_1.astype(np.uint8))\n",
    "cv.imshow(\"output_2_2 PSNR: \"+ str(output_2_2_psnr),output_2_2.astype(np.uint8))\n",
    "cv.imshow(\"output_2_3 PSNR: \"+ str(output_2_3_psnr),output_2_3.astype(np.uint8))\n",
    "cv.imshow(\"output_2_4 PSNR: \"+ str(output_2_4_psnr),output_2_4.astype(np.uint8))\n",
    "cv.imshow(\"output_2_5 PSNR: \"+ str(output_2_5_psnr),output_2_5.astype(np.uint8))\n",
    "cv.imshow(\"output_2_6 PSNR: \"+ str(output_2_6_psnr),output_2_6.astype(np.uint8))\n",
    "cv.imshow(\"output_2_7 PSNR: \"+ str(output_2_7_psnr),output_2_7.astype(np.uint8))\n",
    "print()\n",
    "print(\"output_2_1 PSNR:\", output_2_1_psnr)\n",
    "print(\"output_2_2 PSNR:\", output_2_2_psnr)\n",
    "print(\"output_2_3 PSNR:\", output_2_3_psnr)\n",
    "print(\"output_2_4 PSNR:\", output_2_4_psnr)\n",
    "print(\"output_2_5 PSNR:\", output_2_5_psnr)\n",
    "print(\"output_2_6 PSNR:\", output_2_6_psnr)\n",
    "print(\"output_2_7 PSNR:\", output_2_7_psnr)\n",
    "\n",
    "cv.waitKey(0)\n",
    "cv.destroyAllWindows()\n"
   ]
  },
  {
   "cell_type": "code",
   "execution_count": null,
   "id": "96fad69b",
   "metadata": {},
   "outputs": [],
   "source": []
  }
 ],
 "metadata": {
  "kernelspec": {
   "display_name": "Python 3 (ipykernel)",
   "language": "python",
   "name": "python3"
  },
  "language_info": {
   "codemirror_mode": {
    "name": "ipython",
    "version": 3
   },
   "file_extension": ".py",
   "mimetype": "text/x-python",
   "name": "python",
   "nbconvert_exporter": "python",
   "pygments_lexer": "ipython3",
   "version": "3.9.6"
  }
 },
 "nbformat": 4,
 "nbformat_minor": 5
}
