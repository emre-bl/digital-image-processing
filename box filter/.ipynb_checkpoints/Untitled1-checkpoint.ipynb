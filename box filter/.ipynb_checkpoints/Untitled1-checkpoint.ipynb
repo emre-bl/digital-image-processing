{
 "cells": [
  {
   "cell_type": "code",
   "execution_count": null,
   "id": "2d402ac3",
   "metadata": {},
   "outputs": [],
   "source": [
    "import cv2 as cv\n",
    "import numpy as np\n",
    "import matplotlib.pyplot as plt\n",
    "import math\n",
    "\n",
    "def box_filter(pixels,m):\n",
    "        kernel = np.ones((m,m), dtype = int)\n",
    "        new_x = pixels.shape[0] + 2*math.floor(m/2)\n",
    "        new_y = pixels.shape[1] + 2*math.floor(m/2)\n",
    "        pad = math.floor(m/2)\n",
    "        new_img = np.zeros((new_x,new_y), dtype = int)\n",
    "        \n",
    "        for i in range(pixels.shape[0]): #image üzerine zero padding\n",
    "            for j in range(pixels.shape[1]):\n",
    "                new_img[math.floor(m/2)+i][math.floor(m/2)+j]+=pixels[i][j]\n",
    "                \n",
    "        temp_img = new_img.copy()\n",
    "        \n",
    "        for i in range(pad,pixels.shape[0]+pad):\n",
    "            for j in range(pad,pixels.shape[1]+pad):\n",
    "                part = temp_img[i-pad:i+pad+1, j-pad:j+pad+1]\n",
    "                multiplied_matrix = np.multiply(part,kernel) / (m**2)\n",
    "                new_pixel_value = round(multiplied_matrix.sum())\n",
    "                new_img[i][j] =  new_pixel_value\n",
    "        \n",
    "        return new_img[pad:pixels.shape[0]+pad,pad:pixels.shape[1]+pad]\n",
    "    \n",
    "img = cv.imread(\"t2.jpg\", cv.IMREAD_GRAYSCALE)\n",
    "\n",
    "test_img = img.copy()\n",
    "\n",
    "output_3x3 = box_filter(test_img,3)\n",
    "\n",
    "cv.imshow(\"3x3\", output_3x3)\n",
    "cv.waitKey(0)\n",
    "cv.destroyAllWindows()\n",
    "cv.waitKey(1)"
   ]
  }
 ],
 "metadata": {
  "kernelspec": {
   "display_name": "Python 3 (ipykernel)",
   "language": "python",
   "name": "python3"
  },
  "language_info": {
   "codemirror_mode": {
    "name": "ipython",
    "version": 3
   },
   "file_extension": ".py",
   "mimetype": "text/x-python",
   "name": "python",
   "nbconvert_exporter": "python",
   "pygments_lexer": "ipython3",
   "version": "3.9.7"
  }
 },
 "nbformat": 4,
 "nbformat_minor": 5
}
