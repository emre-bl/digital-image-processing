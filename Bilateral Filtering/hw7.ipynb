{
 "cells": [
  {
   "cell_type": "code",
   "execution_count": 7,
   "id": "243669fa",
   "metadata": {},
   "outputs": [],
   "source": [
    "import numpy as np\n",
    "import cv2 as cv"
   ]
  },
  {
   "cell_type": "code",
   "execution_count": 8,
   "id": "3a95e9a8",
   "metadata": {},
   "outputs": [],
   "source": [
    "def adaptive_mean_filter(image,gamma):\n",
    "    img = image.copy()\n",
    "    return_img = np.zeros(img.shape)\n",
    "    img = np.single(img)\n",
    "    img = cv.normalize(img, None, alpha=0,beta=1, norm_type=cv.NORM_MINMAX, dtype=cv.CV_32F)\n",
    "    p = cv.copyMakeBorder(img, 2, 2, 2,2, cv.BORDER_REPLICATE, None, value = 0)\n",
    "    m,n = img.shape\n",
    "    for i in range(m):\n",
    "        for j in range(n):\n",
    "            part = p[i:i+4,j:j+4]\n",
    "            mean_p = np.average(part)\n",
    "            var = np.var(part)\n",
    "            return_img[i][j] = p[i+2][j+2]-(gamma/var)*(p[i+2][j+2]-mean_p)\n",
    "    return_img = cv.normalize(return_img, None, alpha=0, beta=255, norm_type=cv.NORM_MINMAX, dtype=cv.CV_32F)\n",
    "    return return_img.astype(np.uint8)"
   ]
  },
  {
   "cell_type": "code",
   "execution_count": 9,
   "id": "f5fbca13",
   "metadata": {},
   "outputs": [],
   "source": [
    "noisyImage_Gaussian = cv.imread(\"noisyImage_Gaussian.jpg\", cv.IMREAD_GRAYSCALE)"
   ]
  },
  {
   "cell_type": "code",
   "execution_count": 10,
   "id": "510b5c4d",
   "metadata": {},
   "outputs": [],
   "source": [
    "normalized_noisyImage_Gaussian = np.single(noisyImage_Gaussian)\n",
    "normalized_noisyImage_Gaussian = cv.normalize(normalized_noisyImage_Gaussian, None, alpha=0,beta=1, norm_type=cv.NORM_MINMAX, dtype=cv.CV_32F)"
   ]
  },
  {
   "cell_type": "code",
   "execution_count": 11,
   "id": "fba22fd3",
   "metadata": {},
   "outputs": [],
   "source": [
    "b3 = None\n",
    "b3 = cv.boxFilter(normalized_noisyImage_Gaussian, 0, (3,3), b3, (-1,-1), True, cv.BORDER_REPLICATE)\n",
    "b3 = cv.normalize(b3, None, alpha=0, beta=255, norm_type=cv.NORM_MINMAX, dtype=cv.CV_32F).astype(np.uint8)\n",
    "\n",
    "b5 = None\n",
    "b5 = cv.boxFilter(normalized_noisyImage_Gaussian, 0, (5,5), b5, (-1,-1), True, cv.BORDER_REPLICATE)\n",
    "b5 = cv.normalize(b5, None, alpha=0, beta=255, norm_type=cv.NORM_MINMAX, dtype=cv.CV_32F).astype(np.uint8)\n",
    "\n",
    "g3 = cv.GaussianBlur(normalized_noisyImage_Gaussian,(3,3),0,borderType = cv.BORDER_REPLICATE)\n",
    "g3 = cv.normalize(g3, None, alpha=0, beta=255, norm_type=cv.NORM_MINMAX, dtype=cv.CV_32F).astype(np.uint8)\n",
    "\n",
    "g5 = cv.GaussianBlur(normalized_noisyImage_Gaussian,(5,5),0,borderType = cv.BORDER_REPLICATE)\n",
    "g5 = cv.normalize(g5, None, alpha=0, beta=255, norm_type=cv.NORM_MINMAX, dtype=cv.CV_32F).astype(np.uint8)\n",
    "\n",
    "adap_mean_filtered = adaptive_mean_filter(normalized_noisyImage_Gaussian,0.0042)\n",
    "\n",
    "bilateralfiltered = cv.bilateralFilter(normalized_noisyImage_Gaussian, 5, 3, 0.9, borderType = cv.BORDER_REPLICATE)\n",
    "bilateralfiltered = cv.normalize(bilateralfiltered, None, alpha=0, beta=255, norm_type=cv.NORM_MINMAX, dtype=cv.CV_32F).astype(np.uint8)"
   ]
  },
  {
   "cell_type": "code",
   "execution_count": 12,
   "id": "756543b9",
   "metadata": {},
   "outputs": [
    {
     "name": "stdout",
     "output_type": "stream",
     "text": [
      "3x3 Box Filter PSNR:  8.019595242808224\n",
      "5x5 Box Filter PSNR: 7.974019503834508\n",
      "3x3 Gaussian PSNR: 22.226116278556148\n",
      "5x5 Gaussian PSNR: 20.46303024943676\n",
      "Adaptive mean filtered PSNR: 23.323964479602047\n",
      "Bilateral Filtered PSNR: 21.841210853040295\n"
     ]
    }
   ],
   "source": [
    "b3psnr = cv.PSNR(b3, noisyImage_Gaussian)\n",
    "print(\"3x3 Box Filter PSNR: \",b3psnr)\n",
    "b5psnr = cv.PSNR(b5, noisyImage_Gaussian)\n",
    "print(\"5x5 Box Filter PSNR:\",b5psnr)\n",
    "\n",
    "g3psnr = cv.PSNR(g3, noisyImage_Gaussian)\n",
    "print(\"3x3 Gaussian PSNR:\",g3psnr)\n",
    "g5psnr = cv.PSNR(g5, noisyImage_Gaussian)\n",
    "print(\"5x5 Gaussian PSNR:\",g5psnr)\n",
    "\n",
    "adap_mean_filtered_psnr = cv.PSNR(adap_mean_filtered, noisyImage_Gaussian)\n",
    "print(\"Adaptive mean filtered PSNR:\",adap_mean_filtered_psnr)\n",
    "\n",
    "bilateralfiltered_psnr = cv.PSNR(bilateralfiltered, noisyImage_Gaussian)\n",
    "print(\"Bilateral Filtered PSNR:\",bilateralfiltered_psnr)"
   ]
  },
  {
   "cell_type": "markdown",
   "id": "0db02087",
   "metadata": {},
   "source": [
    "**2. soru**"
   ]
  },
  {
   "cell_type": "code",
   "execution_count": 13,
   "id": "e5eb58d8",
   "metadata": {},
   "outputs": [],
   "source": [
    "noisyImage_Gaussian_01 = cv.imread(\"noisyImage_Gaussian_01.jpg\", cv.IMREAD_GRAYSCALE)"
   ]
  },
  {
   "cell_type": "code",
   "execution_count": 14,
   "id": "e1957b00",
   "metadata": {},
   "outputs": [],
   "source": [
    "normalized_noisyImage_Gaussian_01 = np.single(noisyImage_Gaussian_01)\n",
    "normalized_noisyImage_Gaussian_01 = cv.normalize(normalized_noisyImage_Gaussian_01, None, alpha=0,beta=1, norm_type=cv.NORM_MINMAX, dtype=cv.CV_32F)"
   ]
  },
  {
   "cell_type": "code",
   "execution_count": 15,
   "id": "4ab88421",
   "metadata": {},
   "outputs": [],
   "source": [
    "b3_01 = None\n",
    "b3_01 = cv.boxFilter(normalized_noisyImage_Gaussian_01, 0, (3,3), b3_01, (-1,-1), True, cv.BORDER_REPLICATE)\n",
    "b3_01 = cv.normalize(b3_01, None, alpha=0, beta=255, norm_type=cv.NORM_MINMAX, dtype=cv.CV_32F).astype(np.uint8)\n",
    "\n",
    "b5_01 = None\n",
    "b5_01 = cv.boxFilter(normalized_noisyImage_Gaussian_01, 0, (5,5), b5_01, (-1,-1), True, cv.BORDER_REPLICATE)\n",
    "b5_01 = cv.normalize(b5_01, None, alpha=0, beta=255, norm_type=cv.NORM_MINMAX, dtype=cv.CV_32F).astype(np.uint8)\n",
    "\n",
    "g3_01 = cv.GaussianBlur(normalized_noisyImage_Gaussian_01,(3,3),0,borderType = cv.BORDER_REPLICATE)\n",
    "g3_01 = cv.normalize(g3_01, None, alpha=0, beta=255, norm_type=cv.NORM_MINMAX, dtype=cv.CV_32F).astype(np.uint8)\n",
    "\n",
    "g5_01 = cv.GaussianBlur(normalized_noisyImage_Gaussian_01,(5,5),0,borderType = cv.BORDER_REPLICATE)\n",
    "g5_01 = cv.normalize(g5_01, None, alpha=0, beta=255, norm_type=cv.NORM_MINMAX, dtype=cv.CV_32F).astype(np.uint8)\n",
    "\n",
    "adap_mean_filtered_01 = adaptive_mean_filter(normalized_noisyImage_Gaussian_01,0.0009)\n",
    "\n",
    "bilateralfiltered_01 = cv.bilateralFilter(normalized_noisyImage_Gaussian_01, 3, 0.1, 1, borderType = cv.BORDER_REPLICATE)\n",
    "bilateralfiltered_01 = cv.normalize(bilateralfiltered_01, None, alpha=0, beta=255, norm_type=cv.NORM_MINMAX, dtype=cv.CV_32F).astype(np.uint8)"
   ]
  },
  {
   "cell_type": "code",
   "execution_count": 16,
   "id": "92fbe077",
   "metadata": {},
   "outputs": [
    {
     "name": "stdout",
     "output_type": "stream",
     "text": [
      "3x3 Box Filter PSNR:  8.881318531356078\n",
      "5x5 Box Filter PSNR: 8.837656103471879\n",
      "3x3 Gaussian PSNR: 27.9835705324168\n",
      "5x5 Gaussian PSNR: 26.445609226648582\n",
      "Adaptive mean filtered PSNR: 31.200626030222555\n",
      "Bilateral Filtered PSNR: 31.11925601644984\n"
     ]
    }
   ],
   "source": [
    "b3_01psnr = cv.PSNR(b3_01, noisyImage_Gaussian_01)\n",
    "print(\"3x3 Box Filter PSNR: \",b3_01psnr)\n",
    "b5_01psnr = cv.PSNR(b5_01, noisyImage_Gaussian_01)\n",
    "print(\"5x5 Box Filter PSNR:\",b5_01psnr)\n",
    "\n",
    "g3_01psnr = cv.PSNR(g3_01, noisyImage_Gaussian_01)\n",
    "print(\"3x3 Gaussian PSNR:\",g3_01psnr)\n",
    "g5_01psnr = cv.PSNR(g5_01, noisyImage_Gaussian_01)\n",
    "print(\"5x5 Gaussian PSNR:\",g5_01psnr)\n",
    "\n",
    "adap_mean_filtered_01_psnr = cv.PSNR(adap_mean_filtered_01, noisyImage_Gaussian_01)\n",
    "print(\"Adaptive mean filtered PSNR:\",adap_mean_filtered_01_psnr)\n",
    "\n",
    "bilateralfiltered_01_psnr = cv.PSNR(bilateralfiltered_01, noisyImage_Gaussian_01)\n",
    "print(\"Bilateral Filtered PSNR:\",bilateralfiltered_01_psnr)"
   ]
  },
  {
   "cell_type": "markdown",
   "id": "ba4e81bd",
   "metadata": {},
   "source": [
    "**3. Soru**"
   ]
  },
  {
   "cell_type": "code",
   "execution_count": 17,
   "id": "981e93ef",
   "metadata": {},
   "outputs": [],
   "source": [
    "def G_x(x,sigma):\n",
    "    import math\n",
    "    return math.exp(-(x**2)/(2*(sigma**2)))/(sigma*((2*math.pi)**0.5))\n"
   ]
  },
  {
   "cell_type": "code",
   "execution_count": 18,
   "id": "b3e82a5b",
   "metadata": {},
   "outputs": [],
   "source": [
    "def kernel_calculation(part,sigma_r,sigma_s):\n",
    "    sum = 0.0\n",
    "    normalization = 0.0\n",
    "    pi = part.shape[0]//2\n",
    "    for i in range(part.shape[0]):\n",
    "        for j in range(part.shape[1]):\n",
    "            distance = ((i-pi)**2 + (j-pi)**2)**0.5\n",
    "            intensity_difference = abs(part[i][j] - part[pi][pi])\n",
    "            normalization+=(G_x(distance,sigma_s)*G_x(intensity_difference,sigma_r))\n",
    "            sum += G_x(distance,sigma_s)*G_x(intensity_difference,sigma_r)*part[i,j]\n",
    "    return sum/normalization"
   ]
  },
  {
   "cell_type": "code",
   "execution_count": 19,
   "id": "abf1d325",
   "metadata": {},
   "outputs": [],
   "source": [
    "def bilateral_filter(image,kernel_size,sigma_s,sigma_r):\n",
    "    border = kernel_size//2\n",
    "    img = image.copy()\n",
    "    return_img = np.zeros(img.shape)\n",
    "    img = cv.copyMakeBorder(img, border, border, border,border, cv.BORDER_REPLICATE, None)\n",
    "\n",
    "    for x in range(return_img.shape[0]):\n",
    "        for y in range(return_img.shape[1]):\n",
    "            part = img[x:x+2*border+1, y:y+2*border+1]\n",
    "            return_img[x,y] = kernel_calculation(part,sigma_s,sigma_r)\n",
    "    \n",
    "    return return_img"
   ]
  },
  {
   "cell_type": "code",
   "execution_count": 52,
   "id": "f5d2f056",
   "metadata": {},
   "outputs": [],
   "source": [
    "noisyImage_Gaussian_01 = cv.imread(\"noisyImage_Gaussian_01.jpg\", cv.IMREAD_GRAYSCALE)\n",
    "normalized_noisyImage_Gaussian_01 = np.single(noisyImage_Gaussian_01)\n",
    "normalized_noisyImage_Gaussian_01 = cv.normalize(normalized_noisyImage_Gaussian_01, None, alpha=0,beta=1, norm_type=cv.NORM_MINMAX, dtype=cv.CV_32F)\n",
    "\n",
    "noisyImage_Gaussian = cv.imread(\"noisyImage_Gaussian.jpg\", cv.IMREAD_GRAYSCALE)\n",
    "normalized_noisyImage_Gaussian = np.single(noisyImage_Gaussian)\n",
    "normalized_noisyImage_Gaussian = cv.normalize(normalized_noisyImage_Gaussian, None, alpha=0,beta=1, norm_type=cv.NORM_MINMAX, dtype=cv.CV_32F)"
   ]
  },
  {
   "cell_type": "code",
   "execution_count": 53,
   "id": "e02f9b95",
   "metadata": {},
   "outputs": [],
   "source": [
    "cv1 = cv.bilateralFilter(normalized_noisyImage_Gaussian_01, 5, 0.1, 1, borderType = cv.BORDER_REPLICATE)\n",
    "cv1 = cv.normalize(cv1, None, alpha=0, beta=255, norm_type=cv.NORM_MINMAX, dtype=cv.CV_32F)\n",
    "\n",
    "cv2 = cv.bilateralFilter(normalized_noisyImage_Gaussian, 5, 3, 0.9, borderType = cv.BORDER_REPLICATE)\n",
    "cv2 = cv.normalize(cv2, None, alpha=0, beta=255, norm_type=cv.NORM_MINMAX, dtype=cv.CV_32F)"
   ]
  },
  {
   "cell_type": "code",
   "execution_count": 54,
   "id": "ec1562f5",
   "metadata": {},
   "outputs": [],
   "source": [
    "mine1 = bilateral_filter(normalized_noisyImage_Gaussian_01,5, 0.1, 1)\n",
    "mine1 = cv.normalize(mine1, None, alpha=0, beta=255, norm_type=cv.NORM_MINMAX, dtype=cv.CV_32F)\n",
    "\n",
    "mine2 = bilateral_filter(normalized_noisyImage_Gaussian,5, 3, 0.9)\n",
    "mine2 = cv.normalize(mine2, None, alpha=0, beta=255, norm_type=cv.NORM_MINMAX, dtype=cv.CV_32F)"
   ]
  },
  {
   "cell_type": "code",
   "execution_count": 55,
   "id": "d135258f",
   "metadata": {},
   "outputs": [],
   "source": [
    "cv.imshow(\"Bilateral filtered noisyImage_Gaussian_01 output(OPENCV)\",mine1.astype(np.uint8))\n",
    "\n",
    "cv.imshow(\"Bilateral filtered noisyImage_Gaussian_01 output(My Filter)\",mine1.astype(np.uint8))\n",
    "\n",
    "cv.imshow(\"Bilateral filtered noisyImage_Gaussian output(OPENCV)\",mine1.astype(np.uint8))\n",
    "\n",
    "cv.imshow(\"Bilateral filtered noisyImage_Gaussian output(My Filter)\",mine1.astype(np.uint8))\n",
    "\n",
    "cv.waitKey(0)\n",
    "cv.destroyAllWindows()"
   ]
  },
  {
   "cell_type": "code",
   "execution_count": 64,
   "id": "41fafc73",
   "metadata": {},
   "outputs": [
    {
     "name": "stdout",
     "output_type": "stream",
     "text": [
      "[noisyImage_Gaussian_01] Max pixel intensity difference: 3\n"
     ]
    }
   ],
   "source": [
    "abs_img1 = abs(mine1.astype(float)-cv1.astype(float))\n",
    "print(\"[noisyImage_Gaussian_01] Max pixel intensity difference:\",round(abs_img1.max()))"
   ]
  },
  {
   "cell_type": "code",
   "execution_count": 65,
   "id": "9c307002",
   "metadata": {},
   "outputs": [
    {
     "name": "stdout",
     "output_type": "stream",
     "text": [
      "[noisyImage_Gaussian] Max pixel intensity difference: 8\n"
     ]
    }
   ],
   "source": [
    "abs_img2 = abs(mine2.astype(float)-cv2.astype(float))\n",
    "print(\"[noisyImage_Gaussian] Max pixel intensity difference:\",round(abs_img2.max()))"
   ]
  },
  {
   "cell_type": "code",
   "execution_count": null,
   "id": "d53f9c24",
   "metadata": {},
   "outputs": [],
   "source": []
  }
 ],
 "metadata": {
  "kernelspec": {
   "display_name": "Python 3.8.8rc1 64-bit",
   "language": "python",
   "name": "python3"
  },
  "language_info": {
   "codemirror_mode": {
    "name": "ipython",
    "version": 3
   },
   "file_extension": ".py",
   "mimetype": "text/x-python",
   "name": "python",
   "nbconvert_exporter": "python",
   "pygments_lexer": "ipython3",
   "version": "3.8.8rc1"
  },
  "vscode": {
   "interpreter": {
    "hash": "66f5a7bbd6c943ffc34a53eb1c1f03aad673b1216fb5b79a025e16357e990e57"
   }
  }
 },
 "nbformat": 4,
 "nbformat_minor": 5
}
