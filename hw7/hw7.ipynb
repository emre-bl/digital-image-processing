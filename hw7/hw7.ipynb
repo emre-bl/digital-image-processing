{
 "cells": [
  {
   "cell_type": "code",
   "execution_count": 2,
   "id": "243669fa",
   "metadata": {},
   "outputs": [],
   "source": [
    "import numpy as np\n",
    "import cv2 as cv"
   ]
  },
  {
   "cell_type": "code",
   "execution_count": 8,
   "id": "3a95e9a8",
   "metadata": {},
   "outputs": [],
   "source": [
    "def adaptive_mean_filter(image):\n",
    "    img = image.copy()\n",
    "    return_img = np.zeros(img.shape)\n",
    "    img = np.single(img)\n",
    "    img = cv.normalize(img, None, alpha=0,beta=1, norm_type=cv.NORM_MINMAX, dtype=cv.CV_32F)\n",
    "    p = cv.copyMakeBorder(img, 2, 2, 2,2, cv.BORDER_REPLICATE, None, value = 0)\n",
    "    m,n = img.shape\n",
    "    for i in range(m):\n",
    "        for j in range(n):\n",
    "            part = p[i:i+4,j:j+4]\n",
    "            mean_p = np.average(part)\n",
    "            var = np.var(part)\n",
    "            return_img[i][j] = p[i+2][j+2]-(0.0042/var)*(p[i+2][j+2]-mean_p)\n",
    "    return_img = cv.normalize(return_img, None, alpha=0, beta=255, norm_type=cv.NORM_MINMAX, dtype=cv.CV_32F)\n",
    "    return return_img.astype(np.uint8)"
   ]
  },
  {
   "cell_type": "code",
   "execution_count": 4,
   "id": "f5fbca13",
   "metadata": {},
   "outputs": [],
   "source": [
    "noisyImage_Gaussian = cv.imread(\"noisyImage_Gaussian.jpg\", cv.IMREAD_GRAYSCALE)"
   ]
  },
  {
   "cell_type": "code",
   "execution_count": 5,
   "id": "510b5c4d",
   "metadata": {},
   "outputs": [],
   "source": [
    "normalized_noisyImage_Gaussian = np.single(noisyImage_Gaussian)\n",
    "normalized_noisyImage_Gaussian = cv.normalize(normalized_noisyImage_Gaussian, None, alpha=0,beta=1, norm_type=cv.NORM_MINMAX, dtype=cv.CV_32F)"
   ]
  },
  {
   "cell_type": "code",
   "execution_count": 19,
   "id": "fba22fd3",
   "metadata": {},
   "outputs": [],
   "source": [
    "b3 = None\n",
    "b3 = cv.boxFilter(normalized_noisyImage_Gaussian, 0, (3,3), b3, (-1,-1), True, cv.BORDER_REPLICATE)\n",
    "b3 = cv.normalize(b3, None, alpha=0, beta=255, norm_type=cv.NORM_MINMAX, dtype=cv.CV_32F).astype(np.uint8)\n",
    "\n",
    "b5 = None\n",
    "b5 = cv.boxFilter(normalized_noisyImage_Gaussian, 0, (5,5), b5, (-1,-1), True, cv.BORDER_REPLICATE)\n",
    "b5 = cv.normalize(b5, None, alpha=0, beta=255, norm_type=cv.NORM_MINMAX, dtype=cv.CV_32F).astype(np.uint8)\n",
    "\n",
    "g3 = cv.GaussianBlur(normalized_noisyImage_Gaussian,(3,3),0,borderType = cv.BORDER_REPLICATE)\n",
    "g3 = cv.normalize(g3, None, alpha=0, beta=255, norm_type=cv.NORM_MINMAX, dtype=cv.CV_32F).astype(np.uint8)\n",
    "\n",
    "g5 = cv.GaussianBlur(normalized_noisyImage_Gaussian,(5,5),0,borderType = cv.BORDER_REPLICATE)\n",
    "g5 = cv.normalize(g5, None, alpha=0, beta=255, norm_type=cv.NORM_MINMAX, dtype=cv.CV_32F).astype(np.uint8)\n",
    "\n",
    "adap_mean_filtered = adaptive_mean_filter(normalized_noisyImage_Gaussian)\n",
    "\n",
    "bilateralfiltered = cv.bilateralFilter(normalized_noisyImage_Gaussian, 5, 3, 0.9, borderType = cv.BORDER_REPLICATE)\n",
    "bilateralfiltered = cv.normalize(bilateralfiltered, None, alpha=0, beta=255, norm_type=cv.NORM_MINMAX, dtype=cv.CV_32F).astype(np.uint8)"
   ]
  },
  {
   "cell_type": "code",
   "execution_count": 20,
   "id": "756543b9",
   "metadata": {},
   "outputs": [
    {
     "name": "stdout",
     "output_type": "stream",
     "text": [
      "3x3 Box Filter PSNR:  8.019655774678759\n",
      "5x5 Box Filter PSNR: 7.973951455229282\n",
      "3x3 Gaussian PSNR: 22.226116278556148\n",
      "5x5 Gaussian PSNR: 20.46303024943676\n",
      "Adaptive mean filtered PSNR: 23.323964479602047\n",
      "Bilateral Filtered PSNR: 21.841210541599793\n"
     ]
    }
   ],
   "source": [
    "b3psnr = cv.PSNR(b3, noisyImage_Gaussian)\n",
    "print(\"3x3 Box Filter PSNR: \",b3psnr)\n",
    "b5psnr = cv.PSNR(b5, noisyImage_Gaussian)\n",
    "print(\"5x5 Box Filter PSNR:\",b5psnr)\n",
    "\n",
    "g3psnr = cv.PSNR(g3, noisyImage_Gaussian)\n",
    "print(\"3x3 Gaussian PSNR:\",g3psnr)\n",
    "g5psnr = cv.PSNR(g5, noisyImage_Gaussian)\n",
    "print(\"5x5 Gaussian PSNR:\",g5psnr)\n",
    "\n",
    "adap_mean_filtered_psnr = cv.PSNR(adap_mean_filtered, noisyImage_Gaussian)\n",
    "print(\"Adaptive mean filtered PSNR:\",adap_mean_filtered_psnr)\n",
    "\n",
    "bilateralfiltered_psnr = cv.PSNR(bilateralfiltered, noisyImage_Gaussian)\n",
    "print(\"Bilateral Filtered PSNR:\",bilateralfiltered_psnr)"
   ]
  },
  {
   "cell_type": "code",
   "execution_count": null,
   "id": "e5eb58d8",
   "metadata": {},
   "outputs": [],
   "source": []
  }
 ],
 "metadata": {
  "kernelspec": {
   "display_name": "Python 3 (ipykernel)",
   "language": "python",
   "name": "python3"
  },
  "language_info": {
   "codemirror_mode": {
    "name": "ipython",
    "version": 3
   },
   "file_extension": ".py",
   "mimetype": "text/x-python",
   "name": "python",
   "nbconvert_exporter": "python",
   "pygments_lexer": "ipython3",
   "version": "3.8.8rc1"
  }
 },
 "nbformat": 4,
 "nbformat_minor": 5
}
