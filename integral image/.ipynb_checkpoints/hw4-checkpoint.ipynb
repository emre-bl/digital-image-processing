{
 "cells": [
  {
   "cell_type": "code",
   "execution_count": 1,
   "id": "e52da340",
   "metadata": {},
   "outputs": [],
   "source": [
    "import cv2 as cv\n",
    "import numpy as np"
   ]
  },
  {
   "cell_type": "code",
   "execution_count": 2,
   "id": "29396fff",
   "metadata": {},
   "outputs": [],
   "source": [
    "def integral_image(img):\n",
    "    m,n = img.shape\n",
    "    return_image = np.zeros((m+1,n+1) , dtype =np.float64)\n",
    "    \n",
    "    for i in range(m):\n",
    "        for j in range(n):\n",
    "            return_image[i+1][j+1] = return_image[i+1][j] + return_image[i][j+1] + img[i][j] - return_image[i][j]\n",
    "            \n",
    "    return return_image"
   ]
  },
  {
   "cell_type": "code",
   "execution_count": 3,
   "id": "5f612586",
   "metadata": {},
   "outputs": [],
   "source": [
    "lena_grayscale = cv.imread(\"lena_grayscale_hq.jpg\", cv.IMREAD_GRAYSCALE)"
   ]
  },
  {
   "cell_type": "code",
   "execution_count": 4,
   "id": "5d446cfd",
   "metadata": {},
   "outputs": [],
   "source": [
    "my_output = integral_image(lena_grayscale)\n",
    "\n",
    "cv.imshow(\"My integral image output\",my_output.astype(np.uint8))\n",
    "cv.waitKey(0)\n",
    "cv.destroyAllWindows()"
   ]
  },
  {
   "cell_type": "code",
   "execution_count": 5,
   "id": "c98cf533",
   "metadata": {},
   "outputs": [],
   "source": [
    "cv_output = cv.integral(lena_grayscale)\n",
    "#cv.imwrite(\"cv-out.jpg\", cv_output.astype(np.uint8))\n",
    "\n",
    "cv.imshow(\"openCV's Integral Image Output\",cv_output.astype(np.uint8))\n",
    "cv.waitKey(0)\n",
    "cv.destroyAllWindows()"
   ]
  },
  {
   "cell_type": "code",
   "execution_count": 19,
   "id": "779257bb",
   "metadata": {},
   "outputs": [],
   "source": [
    "difference_image = (abs(my_output-cv_output)*100)\n",
    "\n",
    "cv.imshow(\"Difference of integrals is \"+ str(int((difference_image).sum())), difference_image.astype(np.uint8))\n",
    "cv.waitKey(0)\n",
    "cv.destroyAllWindows()"
   ]
  },
  {
   "cell_type": "markdown",
   "id": "d49adc62",
   "metadata": {},
   "source": [
    "**soru 2**"
   ]
  },
  {
   "cell_type": "code",
   "execution_count": 8,
   "id": "acdc0d4a",
   "metadata": {},
   "outputs": [],
   "source": [
    "def eff_box_filter(img, filter_size):\n",
    "    t = int(filter_size/2)\n",
    "    integ_img = integral_image(img)\n",
    "    padded = cv.copyMakeBorder(integ_img, t, t, t, t, cv.BORDER_REPLICATE, None, value = 0)\n",
    "    m,n = padded.shape\n",
    "    return_img = np.zeros((m-1-2*t,n-1-2*t), dtype = np.float64)\n",
    "    k,l = return_img.shape\n",
    "    for i in range(k):\n",
    "        for j in range(l):\n",
    "            return_img[i][j] = round((padded[i+2*t+1][j+2*t+1] + padded[i-t-1+t+1][j-t-1+t+1] - \n",
    "                                padded[i-t-1+t+1][j+t+t+1] - padded[i+t+t+1][j-t-1+t+1])/9)\n",
    "            \n",
    "    return return_img"
   ]
  },
  {
   "cell_type": "code",
   "execution_count": 9,
   "id": "a20e8826",
   "metadata": {},
   "outputs": [],
   "source": [
    "box_filter_output = eff_box_filter(lena_grayscale,3)"
   ]
  },
  {
   "cell_type": "code",
   "execution_count": 10,
   "id": "695246f4",
   "metadata": {},
   "outputs": [],
   "source": [
    "cv.imshow(\"My Box filter output\",box_filter_output.astype(np.uint8))\n",
    "cv.waitKey(0)\n",
    "cv.destroyAllWindows()"
   ]
  },
  {
   "cell_type": "code",
   "execution_count": 11,
   "id": "2c442215",
   "metadata": {},
   "outputs": [],
   "source": [
    "opencv_box_filter_output = None\n",
    "\n",
    "opencv_box_filter_output = cv.boxFilter(lena_grayscale, 0, (3,3), opencv_box_filter_output, \n",
    "                                        (-1,-1), True, cv.BORDER_CONSTANT)"
   ]
  },
  {
   "cell_type": "code",
   "execution_count": 14,
   "id": "14c7d54c",
   "metadata": {},
   "outputs": [],
   "source": [
    "cv.imshow(\"OpenCV 3X3 Box filter output\",opencv_box_filter_output.astype(np.uint8))\n",
    "cv.waitKey(0)\n",
    "cv.destroyAllWindows()"
   ]
  },
  {
   "cell_type": "code",
   "execution_count": 17,
   "id": "51f2c566",
   "metadata": {},
   "outputs": [],
   "source": [
    "difference_image_2 = abs(box_filter_output-opencv_box_filter_output)\n",
    "\n",
    "cv.imshow(\"Max difference between box filters is \"+ str(int(difference_image_2.max())), difference_image_2.astype(np.uint8))\n",
    "cv.waitKey(0)\n",
    "cv.destroyAllWindows()\n"
   ]
  }
 ],
 "metadata": {
  "kernelspec": {
   "display_name": "Python 3 (ipykernel)",
   "language": "python",
   "name": "python3"
  },
  "language_info": {
   "codemirror_mode": {
    "name": "ipython",
    "version": 3
   },
   "file_extension": ".py",
   "mimetype": "text/x-python",
   "name": "python",
   "nbconvert_exporter": "python",
   "pygments_lexer": "ipython3",
   "version": "3.9.6"
  }
 },
 "nbformat": 4,
 "nbformat_minor": 5
}
