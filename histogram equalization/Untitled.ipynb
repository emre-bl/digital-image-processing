{
 "cells": [
  {
   "cell_type": "code",
   "execution_count": 8,
   "id": "fd37f4d3",
   "metadata": {},
   "outputs": [],
   "source": [
    "import cv2\n",
    "import numpy as np\n",
    "from PIL import Image\n",
    "from matplotlib import pyplot as plt\n",
    "\n",
    "\n",
    "#img = Image.open(\"test1.jpg\")\n",
    "#img_array = np.asarray(img)\n",
    "\n",
    "img_array = cv2.imread('test1.jpg', cv2.IMREAD_GRAYSCALE)\n",
    "\n",
    "out_array = np.zeros((img_array.shape[0],img_array.shape[1]), dtype=np.uint8)\n",
    "\n",
    "h = np.histogram(img_array, bins=256)\n",
    "hist = h[0]\n",
    "#print(hist)\n",
    "\n",
    "cdf = np.cumsum(hist)\n",
    "#print(cdf)\n",
    "y = np.zeros((256))\n",
    "\n",
    "#for i in range(256):\n",
    "y = np.round((cdf/(256*256))*255)\n",
    "\n",
    "for i in range(256):\n",
    "    for j in range(256):\n",
    "        out_array[i][j] = y[img_array[i][j]]\n",
    "\n",
    "cv2.imshow(\"output_1\", out_array)\n",
    "cv2.waitKey(0)\n",
    "cv2.destroyAllWindows()"
   ]
  },
  {
   "cell_type": "code",
   "execution_count": null,
   "id": "65322ab9",
   "metadata": {},
   "outputs": [],
   "source": []
  }
 ],
 "metadata": {
  "kernelspec": {
   "display_name": "Python 3 (ipykernel)",
   "language": "python",
   "name": "python3"
  },
  "language_info": {
   "codemirror_mode": {
    "name": "ipython",
    "version": 3
   },
   "file_extension": ".py",
   "mimetype": "text/x-python",
   "name": "python",
   "nbconvert_exporter": "python",
   "pygments_lexer": "ipython3",
   "version": "3.9.7"
  }
 },
 "nbformat": 4,
 "nbformat_minor": 5
}
