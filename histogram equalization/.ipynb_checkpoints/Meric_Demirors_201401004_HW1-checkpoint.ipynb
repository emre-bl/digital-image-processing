{
 "cells": [
  {
   "cell_type": "code",
   "execution_count": 1,
   "metadata": {},
   "outputs": [],
   "source": [
    "import cv2 as cv\n",
    "import numpy as np\n",
    "\n",
    "img = cv.imread(\"test1.jpg\", cv.IMREAD_GRAYSCALE)\n",
    " \n",
    "cv.imshow(\"image\", img)\n",
    " \n",
    "cv.waitKey(0)\n",
    "cv.destroyAllWindows()"
   ]
  },
  {
   "cell_type": "code",
   "execution_count": 2,
   "metadata": {},
   "outputs": [],
   "source": [
    "pixel_counts = np.zeros((256), dtype=int)\n",
    "for r in img:\n",
    "    for c in r:    \n",
    "        pixel_counts[c] = pixel_counts[c] + 1\n",
    "normalized_pixel_counts = pixel_counts/(img.shape[0]*img.shape[1])"
   ]
  },
  {
   "cell_type": "code",
   "execution_count": 3,
   "metadata": {},
   "outputs": [],
   "source": [
    "transformation_dict = {}\n",
    "for i in range(256):\n",
    "    transformation_dict[i] = int(np.floor((sum(normalized_pixel_counts[:i+1])*255)+0.5))"
   ]
  },
  {
   "cell_type": "markdown",
   "metadata": {},
   "source": [
    "## output_1"
   ]
  },
  {
   "cell_type": "code",
   "execution_count": 4,
   "metadata": {},
   "outputs": [],
   "source": [
    "output_1 = img.copy()\n",
    "\n",
    "for r in range(output_1.shape[0]):\n",
    "    for c in range(output_1.shape[1]):\n",
    "        output_1[r][c] = transformation_dict[img[r][c]]\n",
    "\n",
    "cv.imshow(\"output_1\", output_1)\n",
    "\n",
    "cv.waitKey(0)\n",
    "cv.destroyAllWindows()"
   ]
  },
  {
   "cell_type": "markdown",
   "metadata": {},
   "source": [
    "## output_2"
   ]
  },
  {
   "cell_type": "code",
   "execution_count": 5,
   "metadata": {},
   "outputs": [],
   "source": [
    "output_2 = cv.equalizeHist(img)\n",
    "\n",
    "cv.imshow(\"output_2\", output_2)\n",
    "\n",
    "cv.waitKey(0)\n",
    "cv.destroyAllWindows()"
   ]
  },
  {
   "cell_type": "markdown",
   "metadata": {},
   "source": [
    "## abs 1-2"
   ]
  },
  {
   "cell_type": "code",
   "execution_count": 6,
   "metadata": {},
   "outputs": [],
   "source": [
    "abs_1_2 = (abs(output_1 - output_2)) \n",
    "\n",
    "cv.imshow(\"abs_1_2\", abs_1_2)\n",
    " \n",
    "cv.waitKey(0)\n",
    "cv.destroyAllWindows()"
   ]
  },
  {
   "cell_type": "code",
   "execution_count": 7,
   "metadata": {},
   "outputs": [
    {
     "data": {
      "text/plain": [
       "64969"
      ]
     },
     "execution_count": 7,
     "metadata": {},
     "output_type": "execute_result"
    }
   ],
   "source": [
    "abs_1_2.sum()"
   ]
  },
  {
   "cell_type": "markdown",
   "metadata": {},
   "source": [
    "## output_3"
   ]
  },
  {
   "cell_type": "code",
   "execution_count": 8,
   "metadata": {},
   "outputs": [],
   "source": [
    "H = np.zeros(256, dtype=int)\n",
    "for r in img:\n",
    "    for c in r:    \n",
    "        H[c] = H[c] + 1"
   ]
  },
  {
   "cell_type": "code",
   "execution_count": 9,
   "metadata": {},
   "outputs": [],
   "source": [
    "for g in range(len(H)):\n",
    "    if H[g]>0:\n",
    "        g_min = g\n",
    "        break"
   ]
  },
  {
   "cell_type": "code",
   "execution_count": 17,
   "metadata": {},
   "outputs": [
    {
     "data": {
      "text/plain": [
       "0"
      ]
     },
     "execution_count": 17,
     "metadata": {},
     "output_type": "execute_result"
    }
   ],
   "source": [
    "g_min"
   ]
  },
  {
   "cell_type": "code",
   "execution_count": 10,
   "metadata": {},
   "outputs": [],
   "source": [
    "Hc = np.zeros(256, dtype=int)\n",
    "Hc[0] = H[0]\n",
    "for g in range(1,256):\n",
    "    Hc[g] = Hc[g-1] + H[g]"
   ]
  },
  {
   "cell_type": "code",
   "execution_count": 11,
   "metadata": {},
   "outputs": [],
   "source": [
    "H_min = Hc[g_min]"
   ]
  },
  {
   "cell_type": "code",
   "execution_count": 18,
   "metadata": {},
   "outputs": [
    {
     "data": {
      "text/plain": [
       "514"
      ]
     },
     "execution_count": 18,
     "metadata": {},
     "output_type": "execute_result"
    }
   ],
   "source": [
    "H_min"
   ]
  },
  {
   "cell_type": "code",
   "execution_count": 12,
   "metadata": {},
   "outputs": [],
   "source": [
    "transformation_dict_2 = {}\n",
    "for g in range(256):\n",
    "    transformation_dict_2[g] = round( (Hc[g]-H_min) / (img.shape[0]*img.shape[1]-H_min) * 255)"
   ]
  },
  {
   "cell_type": "code",
   "execution_count": 16,
   "metadata": {},
   "outputs": [
    {
     "data": {
      "text/plain": [
       "{0: 0,\n",
       " 1: 0,\n",
       " 2: 1,\n",
       " 3: 2,\n",
       " 4: 2,\n",
       " 5: 3,\n",
       " 6: 4,\n",
       " 7: 5,\n",
       " 8: 5,\n",
       " 9: 6,\n",
       " 10: 7,\n",
       " 11: 8,\n",
       " 12: 9,\n",
       " 13: 10,\n",
       " 14: 11,\n",
       " 15: 12,\n",
       " 16: 13,\n",
       " 17: 14,\n",
       " 18: 15,\n",
       " 19: 16,\n",
       " 20: 17,\n",
       " 21: 18,\n",
       " 22: 19,\n",
       " 23: 20,\n",
       " 24: 22,\n",
       " 25: 23,\n",
       " 26: 24,\n",
       " 27: 25,\n",
       " 28: 26,\n",
       " 29: 27,\n",
       " 30: 28,\n",
       " 31: 30,\n",
       " 32: 31,\n",
       " 33: 32,\n",
       " 34: 33,\n",
       " 35: 34,\n",
       " 36: 35,\n",
       " 37: 36,\n",
       " 38: 37,\n",
       " 39: 38,\n",
       " 40: 39,\n",
       " 41: 40,\n",
       " 42: 41,\n",
       " 43: 42,\n",
       " 44: 43,\n",
       " 45: 44,\n",
       " 46: 44,\n",
       " 47: 45,\n",
       " 48: 47,\n",
       " 49: 47,\n",
       " 50: 48,\n",
       " 51: 50,\n",
       " 52: 51,\n",
       " 53: 52,\n",
       " 54: 52,\n",
       " 55: 53,\n",
       " 56: 54,\n",
       " 57: 55,\n",
       " 58: 56,\n",
       " 59: 57,\n",
       " 60: 58,\n",
       " 61: 59,\n",
       " 62: 60,\n",
       " 63: 60,\n",
       " 64: 62,\n",
       " 65: 63,\n",
       " 66: 64,\n",
       " 67: 65,\n",
       " 68: 66,\n",
       " 69: 67,\n",
       " 70: 67,\n",
       " 71: 68,\n",
       " 72: 69,\n",
       " 73: 70,\n",
       " 74: 71,\n",
       " 75: 72,\n",
       " 76: 73,\n",
       " 77: 74,\n",
       " 78: 75,\n",
       " 79: 76,\n",
       " 80: 77,\n",
       " 81: 78,\n",
       " 82: 80,\n",
       " 83: 82,\n",
       " 84: 82,\n",
       " 85: 84,\n",
       " 86: 85,\n",
       " 87: 86,\n",
       " 88: 87,\n",
       " 89: 87,\n",
       " 90: 88,\n",
       " 91: 89,\n",
       " 92: 90,\n",
       " 93: 91,\n",
       " 94: 92,\n",
       " 95: 93,\n",
       " 96: 94,\n",
       " 97: 95,\n",
       " 98: 96,\n",
       " 99: 96,\n",
       " 100: 97,\n",
       " 101: 98,\n",
       " 102: 100,\n",
       " 103: 101,\n",
       " 104: 102,\n",
       " 105: 103,\n",
       " 106: 104,\n",
       " 107: 104,\n",
       " 108: 106,\n",
       " 109: 107,\n",
       " 110: 107,\n",
       " 111: 109,\n",
       " 112: 109,\n",
       " 113: 110,\n",
       " 114: 112,\n",
       " 115: 112,\n",
       " 116: 113,\n",
       " 117: 114,\n",
       " 118: 115,\n",
       " 119: 116,\n",
       " 120: 116,\n",
       " 121: 117,\n",
       " 122: 119,\n",
       " 123: 120,\n",
       " 124: 120,\n",
       " 125: 121,\n",
       " 126: 121,\n",
       " 127: 122,\n",
       " 128: 123,\n",
       " 129: 128,\n",
       " 130: 128,\n",
       " 131: 129,\n",
       " 132: 130,\n",
       " 133: 131,\n",
       " 134: 131,\n",
       " 135: 132,\n",
       " 136: 132,\n",
       " 137: 133,\n",
       " 138: 137,\n",
       " 139: 138,\n",
       " 140: 139,\n",
       " 141: 140,\n",
       " 142: 140,\n",
       " 143: 141,\n",
       " 144: 142,\n",
       " 145: 143,\n",
       " 146: 144,\n",
       " 147: 145,\n",
       " 148: 146,\n",
       " 149: 146,\n",
       " 150: 147,\n",
       " 151: 148,\n",
       " 152: 149,\n",
       " 153: 150,\n",
       " 154: 152,\n",
       " 155: 153,\n",
       " 156: 154,\n",
       " 157: 154,\n",
       " 158: 154,\n",
       " 159: 155,\n",
       " 160: 156,\n",
       " 161: 157,\n",
       " 162: 160,\n",
       " 163: 161,\n",
       " 164: 163,\n",
       " 165: 163,\n",
       " 166: 164,\n",
       " 167: 165,\n",
       " 168: 166,\n",
       " 169: 167,\n",
       " 170: 167,\n",
       " 171: 168,\n",
       " 172: 169,\n",
       " 173: 172,\n",
       " 174: 173,\n",
       " 175: 174,\n",
       " 176: 174,\n",
       " 177: 176,\n",
       " 178: 177,\n",
       " 179: 177,\n",
       " 180: 178,\n",
       " 181: 179,\n",
       " 182: 181,\n",
       " 183: 182,\n",
       " 184: 182,\n",
       " 185: 184,\n",
       " 186: 185,\n",
       " 187: 185,\n",
       " 188: 186,\n",
       " 189: 186,\n",
       " 190: 187,\n",
       " 191: 188,\n",
       " 192: 191,\n",
       " 193: 192,\n",
       " 194: 193,\n",
       " 195: 194,\n",
       " 196: 196,\n",
       " 197: 197,\n",
       " 198: 197,\n",
       " 199: 198,\n",
       " 200: 199,\n",
       " 201: 200,\n",
       " 202: 201,\n",
       " 203: 202,\n",
       " 204: 203,\n",
       " 205: 204,\n",
       " 206: 205,\n",
       " 207: 206,\n",
       " 208: 207,\n",
       " 209: 208,\n",
       " 210: 209,\n",
       " 211: 210,\n",
       " 212: 211,\n",
       " 213: 212,\n",
       " 214: 213,\n",
       " 215: 215,\n",
       " 216: 216,\n",
       " 217: 217,\n",
       " 218: 218,\n",
       " 219: 219,\n",
       " 220: 220,\n",
       " 221: 221,\n",
       " 222: 222,\n",
       " 223: 223,\n",
       " 224: 224,\n",
       " 225: 225,\n",
       " 226: 226,\n",
       " 227: 227,\n",
       " 228: 228,\n",
       " 229: 229,\n",
       " 230: 229,\n",
       " 231: 230,\n",
       " 232: 231,\n",
       " 233: 232,\n",
       " 234: 233,\n",
       " 235: 234,\n",
       " 236: 236,\n",
       " 237: 237,\n",
       " 238: 238,\n",
       " 239: 239,\n",
       " 240: 239,\n",
       " 241: 240,\n",
       " 242: 241,\n",
       " 243: 242,\n",
       " 244: 243,\n",
       " 245: 244,\n",
       " 246: 245,\n",
       " 247: 247,\n",
       " 248: 248,\n",
       " 249: 249,\n",
       " 250: 251,\n",
       " 251: 252,\n",
       " 252: 253,\n",
       " 253: 253,\n",
       " 254: 254,\n",
       " 255: 255}"
      ]
     },
     "execution_count": 16,
     "metadata": {},
     "output_type": "execute_result"
    }
   ],
   "source": [
    "transformation_dict_2"
   ]
  },
  {
   "cell_type": "code",
   "execution_count": 13,
   "metadata": {},
   "outputs": [],
   "source": [
    "output_3 = img.copy()\n",
    "\n",
    "for r in range(output_3.shape[0]):\n",
    "    for c in range(output_3.shape[1]):\n",
    "        output_3[r][c] = transformation_dict_2[img[r][c]]\n",
    "\n",
    "\n",
    "cv.imshow(\"output_3\", output_3)\n",
    " \n",
    "cv.waitKey(0)\n",
    "cv.destroyAllWindows()"
   ]
  },
  {
   "cell_type": "markdown",
   "metadata": {},
   "source": [
    "## abs"
   ]
  },
  {
   "cell_type": "code",
   "execution_count": 14,
   "metadata": {},
   "outputs": [],
   "source": [
    "abs_2_3 = (abs(output_2 - output_3)) \n",
    "\n",
    "cv.imshow(\"abs_2_3\", abs_2_3)\n",
    " \n",
    "cv.waitKey(0)\n",
    "cv.destroyAllWindows()"
   ]
  },
  {
   "cell_type": "code",
   "execution_count": 15,
   "metadata": {},
   "outputs": [
    {
     "data": {
      "text/plain": [
       "0"
      ]
     },
     "execution_count": 15,
     "metadata": {},
     "output_type": "execute_result"
    }
   ],
   "source": [
    "abs_2_3.sum()"
   ]
  },
  {
   "cell_type": "code",
   "execution_count": null,
   "metadata": {},
   "outputs": [],
   "source": []
  }
 ],
 "metadata": {
  "kernelspec": {
   "display_name": "Python 3 (ipykernel)",
   "language": "python",
   "name": "python3"
  },
  "language_info": {
   "codemirror_mode": {
    "name": "ipython",
    "version": 3
   },
   "file_extension": ".py",
   "mimetype": "text/x-python",
   "name": "python",
   "nbconvert_exporter": "python",
   "pygments_lexer": "ipython3",
   "version": "3.9.6"
  },
  "vscode": {
   "interpreter": {
    "hash": "916dbcbb3f70747c44a77c7bcd40155683ae19c65e1c03b4aa3499c5328201f1"
   }
  }
 },
 "nbformat": 4,
 "nbformat_minor": 2
}
