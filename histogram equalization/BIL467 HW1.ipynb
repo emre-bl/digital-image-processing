{
 "cells": [
  {
   "cell_type": "code",
   "execution_count": 2,
   "id": "c79b5085",
   "metadata": {},
   "outputs": [],
   "source": [
    "import numpy as np\n",
    "import cv2\n",
    "import os,sys\n",
    "from PIL import Image\n",
    "import math"
   ]
  },
  {
   "cell_type": "code",
   "execution_count": 3,
   "id": "beb896c0",
   "metadata": {},
   "outputs": [],
   "source": [
    "def round_float(f): #round function\n",
    "    import math\n",
    "    frac, whole = math.modf(f)\n",
    "    if frac == 0.5:\n",
    "        return int(whole+1)\n",
    "    else:\n",
    "        return int(np.round(f))\n",
    "        \n",
    "        "
   ]
  },
  {
   "cell_type": "markdown",
   "id": "b43faf48",
   "metadata": {},
   "source": [
    "**Output_1**"
   ]
  },
  {
   "cell_type": "code",
   "execution_count": 4,
   "id": "46eb1a50",
   "metadata": {},
   "outputs": [],
   "source": [
    "img = cv2.imread('test1.jpg', cv2.IMREAD_GRAYSCALE) \n",
    "\n",
    "hist,bins = np.histogram(img.flatten(),256,[0,256]) \n",
    "cdf_norm = (hist.cumsum() / (img.shape[0]*img.shape[1]))*255\n",
    "\n",
    "round_func = np.vectorize(round_float)\n",
    "\n",
    "cdf_norm = round_func(cdf_norm)\n",
    "\n",
    "output_1 = np.zeros((256,256), dtype = np.uint8)\n",
    "\n",
    "for i in range(256):\n",
    "    for j in range(256):\n",
    "        output_1[i,j] = cdf_norm[img[i,j]]\n",
    "    \n",
    "cv2.imshow(\"output_1\", output_1)\n",
    " \n",
    "cv2.waitKey(0)\n",
    "cv2.destroyAllWindows()"
   ]
  },
  {
   "cell_type": "markdown",
   "id": "a4393624",
   "metadata": {},
   "source": [
    "**Output_2**"
   ]
  },
  {
   "cell_type": "code",
   "execution_count": 5,
   "id": "0990d9a1",
   "metadata": {},
   "outputs": [],
   "source": [
    "output_2 = cv2.equalizeHist(img)\n",
    "cv2.imshow(\"output_2\",output_2)\n",
    "cv2.waitKey(0)\n",
    "cv2.destroyAllWindows()"
   ]
  },
  {
   "cell_type": "markdown",
   "id": "9850327d",
   "metadata": {},
   "source": [
    "**abs 2-1**"
   ]
  },
  {
   "cell_type": "code",
   "execution_count": 6,
   "id": "fa0be121",
   "metadata": {},
   "outputs": [],
   "source": [
    "output_1_2 = (abs(output_1 - output_2)) \n",
    "\n",
    "cv2.imshow(\"Output1-Output2\", output_1_2)\n",
    " \n",
    "cv2.waitKey(0)\n",
    "cv2.destroyAllWindows()"
   ]
  },
  {
   "cell_type": "code",
   "execution_count": 7,
   "id": "3408e64a",
   "metadata": {},
   "outputs": [
    {
     "data": {
      "text/plain": [
       "64969"
      ]
     },
     "execution_count": 7,
     "metadata": {},
     "output_type": "execute_result"
    }
   ],
   "source": [
    "output_1_2.sum()"
   ]
  },
  {
   "cell_type": "markdown",
   "id": "6e9704a0",
   "metadata": {},
   "source": [
    "**Output_3**"
   ]
  },
  {
   "cell_type": "code",
   "execution_count": 8,
   "id": "72546015",
   "metadata": {},
   "outputs": [],
   "source": [
    "img = cv2.imread('test1.jpg', cv2.IMREAD_GRAYSCALE)\n",
    "\n",
    "H = np.zeros(256, dtype=int)\n",
    "\n",
    "N,M = img.shape\n",
    "\n",
    "for i in range(N):\n",
    "    for j in range(M):\n",
    "        H[img[i,j]]+=1\n",
    "        \n",
    "for i in range(len(H)):\n",
    "    if H[i] > 0:\n",
    "        g_min = i\n",
    "        break\n",
    "\n",
    "H_c = np.zeros(256, dtype=int)\n",
    "H_c[0] = H[0]\n",
    "for i in range(1,256):\n",
    "    H_c[i] = H_c[i-1] + H[i]\n",
    "H_min = H_c[g_min]\n",
    "\n",
    "T = {}\n",
    "for g in range(256):\n",
    "    T[g] = round((H_c[g]-H_min)/(M*N-H_min)*255)\n",
    "    \n",
    "output_3 = img.copy()\n",
    "\n",
    "for m in range(M):\n",
    "    for n in range(N):\n",
    "        output_3[m][n] = T[img[m][n]]\n",
    "        \n",
    "cv2.imshow(\"output_3\", output_3)\n",
    " \n",
    "cv2.waitKey(0)\n",
    "cv2.destroyAllWindows()"
   ]
  },
  {
   "cell_type": "markdown",
   "id": "6b322953",
   "metadata": {},
   "source": [
    "**abs 3-2**"
   ]
  },
  {
   "cell_type": "code",
   "execution_count": 9,
   "id": "a4ab6e97",
   "metadata": {},
   "outputs": [],
   "source": [
    "output_3_2 = (abs(output_3 - output_2)) \n",
    "\n",
    "cv2.imshow(\"Output3-Output2\", output_3_2)\n",
    " \n",
    "cv2.waitKey(0)\n",
    "cv2.destroyAllWindows()"
   ]
  },
  {
   "cell_type": "code",
   "execution_count": 10,
   "id": "dd4cee1e",
   "metadata": {},
   "outputs": [
    {
     "data": {
      "text/plain": [
       "0"
      ]
     },
     "execution_count": 10,
     "metadata": {},
     "output_type": "execute_result"
    }
   ],
   "source": [
    "output_3_2.sum()"
   ]
  },
  {
   "cell_type": "code",
   "execution_count": 11,
   "id": "88fd2d6b",
   "metadata": {},
   "outputs": [
    {
     "data": {
      "text/plain": [
       "array([203, 203, 203, ...,  68,  82,  90], dtype=uint8)"
      ]
     },
     "execution_count": 11,
     "metadata": {},
     "output_type": "execute_result"
    }
   ],
   "source": [
    "img.flatten()"
   ]
  },
  {
   "cell_type": "code",
   "execution_count": null,
   "id": "1a8ec408",
   "metadata": {},
   "outputs": [],
   "source": []
  }
 ],
 "metadata": {
  "kernelspec": {
   "display_name": "Python 3 (ipykernel)",
   "language": "python",
   "name": "python3"
  },
  "language_info": {
   "codemirror_mode": {
    "name": "ipython",
    "version": 3
   },
   "file_extension": ".py",
   "mimetype": "text/x-python",
   "name": "python",
   "nbconvert_exporter": "python",
   "pygments_lexer": "ipython3",
   "version": "3.9.7"
  }
 },
 "nbformat": 4,
 "nbformat_minor": 5
}
